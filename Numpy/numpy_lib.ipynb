{
  "nbformat": 4,
  "nbformat_minor": 0,
  "metadata": {
    "colab": {
      "provenance": []
    },
    "kernelspec": {
      "name": "python3",
      "display_name": "Python 3"
    },
    "language_info": {
      "name": "python"
    }
  },
  "cells": [
    {
      "cell_type": "markdown",
      "source": [
        "Numpy Library\n",
        "\n"
      ],
      "metadata": {
        "id": "-ldaia8Tb1ev"
      }
    },
    {
      "cell_type": "code",
      "execution_count": 2,
      "metadata": {
        "id": "-NiPTN4Tb0T2"
      },
      "outputs": [],
      "source": [
        "import numpy as np"
      ]
    },
    {
      "cell_type": "code",
      "source": [
        "my_list = list(range(100000)) # Normal list\n",
        "my_array = np.array(range(10000)) # Numpy array"
      ],
      "metadata": {
        "id": "siGaoNdscHAT"
      },
      "execution_count": null,
      "outputs": []
    },
    {
      "cell_type": "code",
      "source": [
        "%time for _ in range(10): [x*2 for x in my_list] # Time for normal list"
      ],
      "metadata": {
        "colab": {
          "base_uri": "https://localhost:8080/"
        },
        "id": "iFdSINZCdYSA",
        "outputId": "c264aae4-1b09-41ed-8855-3d3774e9aee8"
      },
      "execution_count": null,
      "outputs": [
        {
          "output_type": "stream",
          "name": "stdout",
          "text": [
            "CPU times: user 68.7 ms, sys: 2.9 ms, total: 71.6 ms\n",
            "Wall time: 71.4 ms\n"
          ]
        }
      ]
    },
    {
      "cell_type": "code",
      "source": [
        "%time for _ in range(10): my_array*2 # Vectorization"
      ],
      "metadata": {
        "colab": {
          "base_uri": "https://localhost:8080/"
        },
        "id": "sZ_HVtOAdqnK",
        "outputId": "5515ac82-c1c4-47a5-fd96-fcc31dde28aa"
      },
      "execution_count": null,
      "outputs": [
        {
          "output_type": "stream",
          "name": "stdout",
          "text": [
            "CPU times: user 1.28 ms, sys: 0 ns, total: 1.28 ms\n",
            "Wall time: 1.17 ms\n"
          ]
        }
      ]
    },
    {
      "cell_type": "markdown",
      "source": [
        "**Array Function**\n"
      ],
      "metadata": {
        "id": "FQj8fci2f5HB"
      }
    },
    {
      "cell_type": "code",
      "source": [
        "data1 = [[1,2,5,3], [12,7,8,3],[1,2.3,55,23]]\n",
        "arr1 = np.array(data1)"
      ],
      "metadata": {
        "id": "WqaX6dFKf8Ml"
      },
      "execution_count": null,
      "outputs": []
    },
    {
      "cell_type": "code",
      "source": [
        "arr1"
      ],
      "metadata": {
        "colab": {
          "base_uri": "https://localhost:8080/"
        },
        "id": "bXHUaaDegVr3",
        "outputId": "7d1dfd2e-950d-41f5-8e95-e1702262b1a5"
      },
      "execution_count": null,
      "outputs": [
        {
          "output_type": "execute_result",
          "data": {
            "text/plain": [
              "array([[ 1. ,  2. ,  5. ,  3. ],\n",
              "       [12. ,  7. ,  8. ,  3. ],\n",
              "       [ 1. ,  2.3, 55. , 23. ]])"
            ]
          },
          "metadata": {},
          "execution_count": 39
        }
      ]
    },
    {
      "cell_type": "code",
      "source": [
        "arr1.ndim # help to find 'size' of array"
      ],
      "metadata": {
        "colab": {
          "base_uri": "https://localhost:8080/"
        },
        "id": "uFB3hIZggX6X",
        "outputId": "5b567cf7-65f6-4fc4-bfca-94e3d24b46c3"
      },
      "execution_count": null,
      "outputs": [
        {
          "output_type": "execute_result",
          "data": {
            "text/plain": [
              "2"
            ]
          },
          "metadata": {},
          "execution_count": 40
        }
      ]
    },
    {
      "cell_type": "markdown",
      "source": [
        "**Shape** **Function**"
      ],
      "metadata": {
        "id": "MhGZUnIWjHV8"
      }
    },
    {
      "cell_type": "code",
      "source": [
        "arr1.shape # return result as a tuple"
      ],
      "metadata": {
        "colab": {
          "base_uri": "https://localhost:8080/"
        },
        "id": "k13gMHhejPSz",
        "outputId": "1b908a4d-0c94-4917-f159-5ebec1f01680"
      },
      "execution_count": null,
      "outputs": [
        {
          "output_type": "execute_result",
          "data": {
            "text/plain": [
              "(3, 4)"
            ]
          },
          "metadata": {},
          "execution_count": 41
        }
      ]
    },
    {
      "cell_type": "code",
      "source": [
        "arr1.size # all elements size"
      ],
      "metadata": {
        "colab": {
          "base_uri": "https://localhost:8080/"
        },
        "id": "c5g56ES_nKFk",
        "outputId": "7a215860-54ed-4ba9-fa6e-e63e2603caab"
      },
      "execution_count": null,
      "outputs": [
        {
          "output_type": "execute_result",
          "data": {
            "text/plain": [
              "12"
            ]
          },
          "metadata": {},
          "execution_count": 60
        }
      ]
    },
    {
      "cell_type": "code",
      "source": [
        "# 3 is a rows\n",
        "# 4 is a columns that we have\n",
        "arr1.shape[1]"
      ],
      "metadata": {
        "colab": {
          "base_uri": "https://localhost:8080/"
        },
        "id": "bua8W9X3jbcn",
        "outputId": "3731cfc8-655f-4ef9-bef7-9db8e4e72afd"
      },
      "execution_count": null,
      "outputs": [
        {
          "output_type": "execute_result",
          "data": {
            "text/plain": [
              "4"
            ]
          },
          "metadata": {},
          "execution_count": 45
        }
      ]
    },
    {
      "cell_type": "markdown",
      "source": [
        "**Zeros and Ones Function**"
      ],
      "metadata": {
        "id": "q1WdvlbKjvom"
      }
    },
    {
      "cell_type": "code",
      "source": [
        "arr2 = np.zeros((3,4)) # generate matrix with zeros with the shape of (3,4)\n",
        "print(arr2)"
      ],
      "metadata": {
        "colab": {
          "base_uri": "https://localhost:8080/"
        },
        "id": "4tD7wRA-j7YA",
        "outputId": "fa080eca-ea23-455f-c929-3574e08fa243"
      },
      "execution_count": null,
      "outputs": [
        {
          "output_type": "stream",
          "name": "stdout",
          "text": [
            "[[0. 0. 0. 0.]\n",
            " [0. 0. 0. 0.]\n",
            " [0. 0. 0. 0.]]\n"
          ]
        }
      ]
    },
    {
      "cell_type": "code",
      "source": [
        "arr3 = np.ones((3,4))\n",
        "print(arr3)"
      ],
      "metadata": {
        "colab": {
          "base_uri": "https://localhost:8080/"
        },
        "id": "IVPc5O_1kOUx",
        "outputId": "b93a8c8c-946c-429e-c236-76eedc359b0c"
      },
      "execution_count": null,
      "outputs": [
        {
          "output_type": "stream",
          "name": "stdout",
          "text": [
            "[[1. 1. 1. 1.]\n",
            " [1. 1. 1. 1.]\n",
            " [1. 1. 1. 1.]]\n"
          ]
        }
      ]
    },
    {
      "cell_type": "markdown",
      "source": [
        "**Arange Function**"
      ],
      "metadata": {
        "id": "j7Iz-Okdkmql"
      }
    },
    {
      "cell_type": "code",
      "source": [
        "arr4 = np.arange(4, 30 , 3) # this mean generate array numbers from 4 to 30 with difference 3\n",
        "print(arr4)"
      ],
      "metadata": {
        "colab": {
          "base_uri": "https://localhost:8080/"
        },
        "id": "AvjQz9KMkqj8",
        "outputId": "c0043aec-0000-4839-8dfc-805d287ef86c"
      },
      "execution_count": null,
      "outputs": [
        {
          "output_type": "stream",
          "name": "stdout",
          "text": [
            "[ 4  7 10 13 16 19 22 25 28]\n"
          ]
        }
      ]
    },
    {
      "cell_type": "code",
      "source": [
        "arr5 = np.arange(30) # automatically starts from 0\n",
        "print(arr5)"
      ],
      "metadata": {
        "colab": {
          "base_uri": "https://localhost:8080/"
        },
        "id": "y1i0DIdJk8mm",
        "outputId": "f8b08270-cfc5-4dae-dbc9-abf8f54ccacd"
      },
      "execution_count": null,
      "outputs": [
        {
          "output_type": "stream",
          "name": "stdout",
          "text": [
            "[ 0  1  2  3  4  5  6  7  8  9 10 11 12 13 14 15 16 17 18 19 20 21 22 23\n",
            " 24 25 26 27 28 29]\n"
          ]
        }
      ]
    },
    {
      "cell_type": "code",
      "source": [
        "rshape = np.arange(0,9,1).reshape(3,3) # reshapes the deminsion\n",
        "rshape[2, :2]"
      ],
      "metadata": {
        "colab": {
          "base_uri": "https://localhost:8080/"
        },
        "id": "AGXFphblCjZA",
        "outputId": "fe686eb0-9a60-46b4-e3d6-191af3f6ad3d"
      },
      "execution_count": null,
      "outputs": [
        {
          "output_type": "execute_result",
          "data": {
            "text/plain": [
              "array([6, 7])"
            ]
          },
          "metadata": {},
          "execution_count": 48
        }
      ]
    },
    {
      "cell_type": "markdown",
      "source": [
        "**Random, Randint Functions**"
      ],
      "metadata": {
        "id": "FFOyve8Jlf_q"
      }
    },
    {
      "cell_type": "code",
      "source": [
        "arr6 = np.random.rand(2,4) # creates randomly generated matrix (0~1) with shape of (2,4)\n",
        "arr6"
      ],
      "metadata": {
        "colab": {
          "base_uri": "https://localhost:8080/"
        },
        "id": "lSblzNq1lmAE",
        "outputId": "a8f5d5cd-23cf-4f2c-f596-00b46109e610"
      },
      "execution_count": null,
      "outputs": [
        {
          "output_type": "execute_result",
          "data": {
            "text/plain": [
              "array([[0.57111645, 0.57037506, 0.98443385, 0.37198829],\n",
              "       [0.03335809, 0.201891  , 0.59531077, 0.57140452]])"
            ]
          },
          "metadata": {},
          "execution_count": 55
        }
      ]
    },
    {
      "cell_type": "code",
      "source": [
        "arr7 = np.random.randint(90,100, size=(2,4)) # randomly creates from 90 (low), to 100 (highest) and size\n",
        "arr7"
      ],
      "metadata": {
        "colab": {
          "base_uri": "https://localhost:8080/"
        },
        "id": "dHSLzDgUmAAr",
        "outputId": "389cb872-a0cb-45ed-956c-20b355f6409a"
      },
      "execution_count": null,
      "outputs": [
        {
          "output_type": "execute_result",
          "data": {
            "text/plain": [
              "array([[97, 98, 98, 97],\n",
              "       [95, 95, 94, 95]])"
            ]
          },
          "metadata": {},
          "execution_count": 58
        }
      ]
    },
    {
      "cell_type": "code",
      "source": [
        "arr8 = np.random.randn(2, 4) # (2, 4) shape --> elements (Normal dist)\n",
        "arr8"
      ],
      "metadata": {
        "colab": {
          "base_uri": "https://localhost:8080/"
        },
        "id": "udkN77SOmzD5",
        "outputId": "de294dae-2788-4ab0-8217-d3d9c7474d9c"
      },
      "execution_count": null,
      "outputs": [
        {
          "output_type": "execute_result",
          "data": {
            "text/plain": [
              "array([[ 0.20985368,  2.51608112,  1.01408701,  0.44316511],\n",
              "       [ 0.3466311 ,  3.23145714,  1.02229944, -0.31039895]])"
            ]
          },
          "metadata": {},
          "execution_count": 59
        }
      ]
    },
    {
      "cell_type": "code",
      "source": [
        "arr9 = np.random.randint(1000, size=(0,1))\n",
        "arr9.ndim"
      ],
      "metadata": {
        "colab": {
          "base_uri": "https://localhost:8080/"
        },
        "id": "YZAWnMiipGLc",
        "outputId": "f9990160-5688-452b-9c1a-4ffb1a822572"
      },
      "execution_count": null,
      "outputs": [
        {
          "output_type": "execute_result",
          "data": {
            "text/plain": [
              "2"
            ]
          },
          "metadata": {},
          "execution_count": 73
        }
      ]
    },
    {
      "cell_type": "markdown",
      "source": [
        "**Dtype and astype**"
      ],
      "metadata": {
        "id": "bBSzslENicG-"
      }
    },
    {
      "cell_type": "code",
      "source": [
        "arr_a = np.array([1,2,3], dtype= np.int8)\n",
        "arr_a"
      ],
      "metadata": {
        "colab": {
          "base_uri": "https://localhost:8080/"
        },
        "id": "rbBnj-o7ik50",
        "outputId": "7c58d226-a869-4191-fff4-9dfc4c3473cb"
      },
      "execution_count": null,
      "outputs": [
        {
          "output_type": "execute_result",
          "data": {
            "text/plain": [
              "array([1, 2, 3], dtype=int8)"
            ]
          },
          "metadata": {},
          "execution_count": 7
        }
      ]
    },
    {
      "cell_type": "code",
      "source": [
        "arr_b = np.array([1,2,3], dtype=np.float64)\n",
        "arr_b"
      ],
      "metadata": {
        "colab": {
          "base_uri": "https://localhost:8080/"
        },
        "id": "qzV48YLrjLx4",
        "outputId": "fda7ff5f-a0b3-4652-d881-84e430319e2c"
      },
      "execution_count": null,
      "outputs": [
        {
          "output_type": "execute_result",
          "data": {
            "text/plain": [
              "array([1., 2., 3.])"
            ]
          },
          "metadata": {},
          "execution_count": 8
        }
      ]
    },
    {
      "cell_type": "code",
      "source": [
        "arr_a.dtype"
      ],
      "metadata": {
        "colab": {
          "base_uri": "https://localhost:8080/"
        },
        "id": "qHpoXuU3jYR3",
        "outputId": "46600129-aaed-4ca8-fd7e-a734efebb742"
      },
      "execution_count": null,
      "outputs": [
        {
          "output_type": "execute_result",
          "data": {
            "text/plain": [
              "dtype('int8')"
            ]
          },
          "metadata": {},
          "execution_count": 9
        }
      ]
    },
    {
      "cell_type": "code",
      "source": [
        "float_arr_a = arr_a.astype(np.float64)\n",
        "float_arr_a"
      ],
      "metadata": {
        "colab": {
          "base_uri": "https://localhost:8080/"
        },
        "id": "7EvRYUJdjcn6",
        "outputId": "f31243dc-30e5-42ad-b7cd-511e9dda832f"
      },
      "execution_count": null,
      "outputs": [
        {
          "output_type": "execute_result",
          "data": {
            "text/plain": [
              "array([1., 2., 3.])"
            ]
          },
          "metadata": {},
          "execution_count": 10
        }
      ]
    },
    {
      "cell_type": "markdown",
      "source": [
        "When turning from float to integer pay attention to data loss"
      ],
      "metadata": {
        "id": "8aWFQRaDjzLw"
      }
    },
    {
      "cell_type": "code",
      "source": [
        "arr_c = np.array([3.3, 2.4, 5.7]) # float 64\n",
        "int_arr_c = arr_c.astype(np.int64)\n",
        "int_arr_c"
      ],
      "metadata": {
        "colab": {
          "base_uri": "https://localhost:8080/"
        },
        "id": "HFZNKLWCj6RT",
        "outputId": "edddccaa-7edd-4bac-85a3-02761d0198e6"
      },
      "execution_count": null,
      "outputs": [
        {
          "output_type": "execute_result",
          "data": {
            "text/plain": [
              "array([3, 2, 5])"
            ]
          },
          "metadata": {},
          "execution_count": 11
        }
      ]
    },
    {
      "cell_type": "markdown",
      "source": [
        "**COPY**"
      ],
      "metadata": {
        "id": "Wx1PHTaRoXr6"
      }
    },
    {
      "cell_type": "code",
      "source": [
        "arr_d = np.arange(10,100,10)\n",
        "arr_d"
      ],
      "metadata": {
        "colab": {
          "base_uri": "https://localhost:8080/"
        },
        "id": "hk6atPaLoa2Q",
        "outputId": "3fe2484c-383f-4e7d-808e-23de8190de00"
      },
      "execution_count": null,
      "outputs": [
        {
          "output_type": "execute_result",
          "data": {
            "text/plain": [
              "array([10, 20, 30, 40, 50, 60, 70, 80, 90])"
            ]
          },
          "metadata": {},
          "execution_count": 19
        }
      ]
    },
    {
      "cell_type": "code",
      "source": [
        "#sliced_arr = arr_d[3:5]\n",
        "#sliced_arr[:] = 0\n",
        "#print(sliced_arr)\n",
        "#print(arr_d)   without copy it affects array itself"
      ],
      "metadata": {
        "colab": {
          "base_uri": "https://localhost:8080/"
        },
        "id": "luDfsUb5oh8b",
        "outputId": "7751ef39-32d8-4b0b-c665-341357888ce9"
      },
      "execution_count": null,
      "outputs": [
        {
          "output_type": "stream",
          "name": "stdout",
          "text": [
            "[0 0]\n",
            "[10 20 30  0  0 60 70 80 90]\n"
          ]
        }
      ]
    },
    {
      "cell_type": "code",
      "source": [
        "sliced_arr1 = arr_d[3:5].copy()\n",
        "sliced_arr1[:] = 0\n",
        "print(sliced_arr1)\n",
        "print(arr_d)"
      ],
      "metadata": {
        "colab": {
          "base_uri": "https://localhost:8080/"
        },
        "id": "rjon7qnHo9NZ",
        "outputId": "b3689427-759c-4348-9b19-82886ef60e11"
      },
      "execution_count": null,
      "outputs": [
        {
          "output_type": "stream",
          "name": "stdout",
          "text": [
            "[0 0]\n",
            "[10 20 30 40 50 60 70 80 90]\n"
          ]
        }
      ]
    },
    {
      "cell_type": "markdown",
      "source": [
        "**Boolen** **Index**"
      ],
      "metadata": {
        "id": "JcrZRyL_7-oi"
      }
    },
    {
      "cell_type": "code",
      "source": [
        "names = np.array(['Mirsaid', 'Asadbek', 'Doston', 'Mironshoh', 'Mirsaid'])\n",
        "names"
      ],
      "metadata": {
        "colab": {
          "base_uri": "https://localhost:8080/"
        },
        "id": "x9gHFGcS8BWz",
        "outputId": "d5d37300-557f-4628-9ce5-8c35ae97faa7"
      },
      "execution_count": null,
      "outputs": [
        {
          "output_type": "execute_result",
          "data": {
            "text/plain": [
              "array(['Mirsaid', 'Asadbek', 'Doston', 'Mironshoh', 'Mirsaid'],\n",
              "      dtype='<U9')"
            ]
          },
          "metadata": {},
          "execution_count": 22
        }
      ]
    },
    {
      "cell_type": "code",
      "source": [
        "data = np.random.randn(5,4)\n",
        "data"
      ],
      "metadata": {
        "colab": {
          "base_uri": "https://localhost:8080/"
        },
        "id": "YWKVKNaV8Ov3",
        "outputId": "81fcdbe1-fc54-4c73-8111-be010a58552a"
      },
      "execution_count": null,
      "outputs": [
        {
          "output_type": "execute_result",
          "data": {
            "text/plain": [
              "array([[-1.12194282,  0.55148122,  1.18411182,  0.14650111],\n",
              "       [ 1.43195945,  0.11360089, -1.36336536,  0.19629991],\n",
              "       [-0.43716653, -1.75460412, -0.25372006, -1.68197361],\n",
              "       [ 1.78695491,  0.3549771 ,  0.55251987, -1.3111975 ],\n",
              "       [ 0.67016905,  0.85835775,  0.95973051, -0.42357333]])"
            ]
          },
          "metadata": {},
          "execution_count": 23
        }
      ]
    },
    {
      "cell_type": "code",
      "source": [
        "names == 'Mirsaid'"
      ],
      "metadata": {
        "colab": {
          "base_uri": "https://localhost:8080/"
        },
        "id": "essNJCxv8few",
        "outputId": "71c4e70e-9fa7-4432-f825-df16dc458ff0"
      },
      "execution_count": null,
      "outputs": [
        {
          "output_type": "execute_result",
          "data": {
            "text/plain": [
              "array([ True, False, False, False,  True])"
            ]
          },
          "metadata": {},
          "execution_count": 24
        }
      ]
    },
    {
      "cell_type": "code",
      "source": [
        "data[names == 'Mirsaid']"
      ],
      "metadata": {
        "colab": {
          "base_uri": "https://localhost:8080/"
        },
        "id": "3fChkOoh8l0i",
        "outputId": "06f39ae8-c35d-4dc9-9727-f5efbbd053bf"
      },
      "execution_count": null,
      "outputs": [
        {
          "output_type": "execute_result",
          "data": {
            "text/plain": [
              "array([[-1.12194282,  0.55148122,  1.18411182,  0.14650111],\n",
              "       [ 0.67016905,  0.85835775,  0.95973051, -0.42357333]])"
            ]
          },
          "metadata": {},
          "execution_count": 25
        }
      ]
    },
    {
      "cell_type": "code",
      "source": [
        "data[names == 'Mirsaid', 2:]\n",
        "# last 2 infos about Mirsaid"
      ],
      "metadata": {
        "colab": {
          "base_uri": "https://localhost:8080/"
        },
        "id": "iI72cwRN8qOq",
        "outputId": "eccdabf8-0dbf-46cf-cd4e-9019edc173b4"
      },
      "execution_count": null,
      "outputs": [
        {
          "output_type": "execute_result",
          "data": {
            "text/plain": [
              "array([[ 1.18411182,  0.14650111],\n",
              "       [ 0.95973051, -0.42357333]])"
            ]
          },
          "metadata": {},
          "execution_count": 26
        }
      ]
    },
    {
      "cell_type": "code",
      "source": [
        "data[names != 'Mirsaid']"
      ],
      "metadata": {
        "colab": {
          "base_uri": "https://localhost:8080/"
        },
        "id": "kerzmc0F90j1",
        "outputId": "63aba7ba-0577-4640-af1f-47af641c5f87"
      },
      "execution_count": null,
      "outputs": [
        {
          "output_type": "execute_result",
          "data": {
            "text/plain": [
              "array([[ 1.43195945,  0.11360089, -1.36336536,  0.19629991],\n",
              "       [-0.43716653, -1.75460412, -0.25372006, -1.68197361],\n",
              "       [ 1.78695491,  0.3549771 ,  0.55251987, -1.3111975 ]])"
            ]
          },
          "metadata": {},
          "execution_count": 27
        }
      ]
    },
    {
      "cell_type": "code",
      "source": [
        "data[~(names == 'Mirsaid')] # ~ is !="
      ],
      "metadata": {
        "colab": {
          "base_uri": "https://localhost:8080/"
        },
        "id": "XKZ10MyN96-r",
        "outputId": "56110621-1f62-4422-9263-fb2bfeba5ca7"
      },
      "execution_count": null,
      "outputs": [
        {
          "output_type": "execute_result",
          "data": {
            "text/plain": [
              "array([[ 1.43195945,  0.11360089, -1.36336536,  0.19629991],\n",
              "       [-0.43716653, -1.75460412, -0.25372006, -1.68197361],\n",
              "       [ 1.78695491,  0.3549771 ,  0.55251987, -1.3111975 ]])"
            ]
          },
          "metadata": {},
          "execution_count": 28
        }
      ]
    },
    {
      "cell_type": "code",
      "source": [
        "mask = (names == 'Mirsaid') | (names == 'Mironshoh') # | is or\n",
        "mask"
      ],
      "metadata": {
        "colab": {
          "base_uri": "https://localhost:8080/"
        },
        "id": "2FNKtc52-Gt_",
        "outputId": "093b8053-947e-4094-aeec-284a7bcbcd0c"
      },
      "execution_count": null,
      "outputs": [
        {
          "output_type": "execute_result",
          "data": {
            "text/plain": [
              "array([ True, False, False,  True,  True])"
            ]
          },
          "metadata": {},
          "execution_count": 35
        }
      ]
    },
    {
      "cell_type": "code",
      "source": [
        "data[mask]"
      ],
      "metadata": {
        "colab": {
          "base_uri": "https://localhost:8080/"
        },
        "id": "BvWHzT58-TQX",
        "outputId": "75d07dbb-abbe-441f-c601-8c565a84156a"
      },
      "execution_count": null,
      "outputs": [
        {
          "output_type": "execute_result",
          "data": {
            "text/plain": [
              "array([[-1.12194282,  0.55148122,  1.18411182,  0.14650111],\n",
              "       [ 1.78695491,  0.3549771 ,  0.55251987, -1.3111975 ],\n",
              "       [ 0.67016905,  0.85835775,  0.95973051, -0.42357333]])"
            ]
          },
          "metadata": {},
          "execution_count": 36
        }
      ]
    },
    {
      "cell_type": "code",
      "source": [
        "data[data<0] = 0 # elements that is small than 0\n",
        "data"
      ],
      "metadata": {
        "colab": {
          "base_uri": "https://localhost:8080/"
        },
        "id": "qdVTRXbg_uOW",
        "outputId": "92c35266-47f4-452d-e092-e86a8b88fbdc"
      },
      "execution_count": null,
      "outputs": [
        {
          "output_type": "execute_result",
          "data": {
            "text/plain": [
              "array([[0.        , 0.55148122, 1.18411182, 0.14650111],\n",
              "       [1.43195945, 0.11360089, 0.        , 0.19629991],\n",
              "       [0.        , 0.        , 0.        , 0.        ],\n",
              "       [1.78695491, 0.3549771 , 0.55251987, 0.        ],\n",
              "       [0.67016905, 0.85835775, 0.95973051, 0.        ]])"
            ]
          },
          "metadata": {},
          "execution_count": 37
        }
      ]
    },
    {
      "cell_type": "code",
      "source": [
        "arr = np.random.randint(0,9, size=(3,3))\n",
        "arr"
      ],
      "metadata": {
        "colab": {
          "base_uri": "https://localhost:8080/"
        },
        "id": "TY0HH2P-Aawb",
        "outputId": "16201b26-bf71-4b20-a31e-f98af9bd255f"
      },
      "execution_count": 3,
      "outputs": [
        {
          "output_type": "execute_result",
          "data": {
            "text/plain": [
              "array([[2, 2, 5],\n",
              "       [6, 7, 4],\n",
              "       [6, 0, 0]])"
            ]
          },
          "metadata": {},
          "execution_count": 3
        }
      ]
    },
    {
      "cell_type": "markdown",
      "source": [
        "**Reshape, Transpose, Swapping Axes**"
      ],
      "metadata": {
        "id": "9n8dLUEq-z2m"
      }
    },
    {
      "cell_type": "code",
      "source": [
        "A = np.arange(6).reshape(3,2)\n",
        "A"
      ],
      "metadata": {
        "colab": {
          "base_uri": "https://localhost:8080/"
        },
        "id": "8bL_wENz-7oE",
        "outputId": "4ac35c86-5426-4c7b-b938-5a132c26ef8f"
      },
      "execution_count": 4,
      "outputs": [
        {
          "output_type": "execute_result",
          "data": {
            "text/plain": [
              "array([[0, 1],\n",
              "       [2, 3],\n",
              "       [4, 5]])"
            ]
          },
          "metadata": {},
          "execution_count": 4
        }
      ]
    },
    {
      "cell_type": "code",
      "source": [
        "A.T # transposed max: 2d"
      ],
      "metadata": {
        "colab": {
          "base_uri": "https://localhost:8080/"
        },
        "id": "eW5qv29u_FHC",
        "outputId": "f198fa56-d21c-4cb6-82d1-df166da8c00e"
      },
      "execution_count": 7,
      "outputs": [
        {
          "output_type": "execute_result",
          "data": {
            "text/plain": [
              "array([[0, 2, 4],\n",
              "       [1, 3, 5]])"
            ]
          },
          "metadata": {},
          "execution_count": 7
        }
      ]
    },
    {
      "cell_type": "code",
      "source": [
        "A.swapaxes(1,0) # used any deminsional arrays"
      ],
      "metadata": {
        "colab": {
          "base_uri": "https://localhost:8080/"
        },
        "id": "rkkr_Ip3_Kbj",
        "outputId": "baefa6a6-275c-4d29-cee2-3ddad650a8f1"
      },
      "execution_count": 10,
      "outputs": [
        {
          "output_type": "execute_result",
          "data": {
            "text/plain": [
              "array([[0, 2, 4],\n",
              "       [1, 3, 5]])"
            ]
          },
          "metadata": {},
          "execution_count": 10
        }
      ]
    },
    {
      "cell_type": "code",
      "source": [
        "np.dot(A,A.T) # multiplication"
      ],
      "metadata": {
        "colab": {
          "base_uri": "https://localhost:8080/"
        },
        "id": "7vcRCWuV_fl9",
        "outputId": "2ad5fa15-cd24-4dc2-8ca6-5ada7ccc0f03"
      },
      "execution_count": 11,
      "outputs": [
        {
          "output_type": "execute_result",
          "data": {
            "text/plain": [
              "array([[ 1,  3,  5],\n",
              "       [ 3, 13, 23],\n",
              "       [ 5, 23, 41]])"
            ]
          },
          "metadata": {},
          "execution_count": 11
        }
      ]
    }
  ]
}