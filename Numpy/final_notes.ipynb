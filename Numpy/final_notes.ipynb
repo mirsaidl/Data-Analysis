{
  "nbformat": 4,
  "nbformat_minor": 0,
  "metadata": {
    "colab": {
      "provenance": []
    },
    "kernelspec": {
      "name": "python3",
      "display_name": "Python 3"
    },
    "language_info": {
      "name": "python"
    }
  },
  "cells": [
    {
      "cell_type": "code",
      "execution_count": 2,
      "metadata": {
        "colab": {
          "base_uri": "https://localhost:8080/"
        },
        "id": "n2m68BLYBWBk",
        "outputId": "3eef0542-45f4-4f92-e4ec-b4d1c4626f06"
      },
      "outputs": [
        {
          "output_type": "execute_result",
          "data": {
            "text/plain": [
              "8"
            ]
          },
          "metadata": {},
          "execution_count": 2
        }
      ],
      "source": [
        "import numpy as np\n",
        "\n",
        "a = np.array([[2,4],[1,2]])\n",
        "a.itemsize"
      ]
    },
    {
      "cell_type": "code",
      "source": [
        "a = a + 1 # add 1 to all\n",
        "a"
      ],
      "metadata": {
        "colab": {
          "base_uri": "https://localhost:8080/"
        },
        "id": "dcxNQSFnBe8A",
        "outputId": "8d53c754-5974-4056-87b8-921a0819fa5a"
      },
      "execution_count": 6,
      "outputs": [
        {
          "output_type": "execute_result",
          "data": {
            "text/plain": [
              "array([[3, 5],\n",
              "       [2, 3]])"
            ]
          },
          "metadata": {},
          "execution_count": 6
        }
      ]
    },
    {
      "cell_type": "code",
      "source": [
        "massiv3 = np.array([1, 2, 3, 4, 5])\n",
        "vektor = np.zeros(len(massiv3) * 4)\n",
        "vektor[::4] = massiv3\n",
        "vektor\n",
        "# In the context of NumPy array slicing, the notation ::3 is a part of the extended slicing syntax and is used to select every third element along the specified axis."
      ],
      "metadata": {
        "id": "HJmbaYJuzgfI"
      },
      "execution_count": null,
      "outputs": []
    },
    {
      "cell_type": "code",
      "source": [
        "0.7 == 7 * 0.1"
      ],
      "metadata": {
        "colab": {
          "base_uri": "https://localhost:8080/"
        },
        "id": "JrkT_8_yB4v7",
        "outputId": "8b2db15b-90a4-455b-f0d4-57c52b27a0c3"
      },
      "execution_count": 1,
      "outputs": [
        {
          "output_type": "execute_result",
          "data": {
            "text/plain": [
              "False"
            ]
          },
          "metadata": {},
          "execution_count": 1
        }
      ]
    },
    {
      "cell_type": "code",
      "source": [
        "np.info(np.bincount)"
      ],
      "metadata": {
        "colab": {
          "base_uri": "https://localhost:8080/"
        },
        "id": "CRAYLWUf-So6",
        "outputId": "86ba2406-fe37-4f8b-acf6-7f31d1878bd5"
      },
      "execution_count": 3,
      "outputs": [
        {
          "output_type": "stream",
          "name": "stdout",
          "text": [
            " bincount()\n",
            "\n",
            "bincount(x, /, weights=None, minlength=0)\n",
            "\n",
            "Count number of occurrences of each value in array of non-negative ints.\n",
            "\n",
            "The number of bins (of size 1) is one larger than the largest value in\n",
            "`x`. If `minlength` is specified, there will be at least this number\n",
            "of bins in the output array (though it will be longer if necessary,\n",
            "depending on the contents of `x`).\n",
            "Each bin gives the number of occurrences of its index value in `x`.\n",
            "If `weights` is specified the input array is weighted by it, i.e. if a\n",
            "value ``n`` is found at position ``i``, ``out[n] += weight[i]`` instead\n",
            "of ``out[n] += 1``.\n",
            "\n",
            "Parameters\n",
            "----------\n",
            "x : array_like, 1 dimension, nonnegative ints\n",
            "    Input array.\n",
            "weights : array_like, optional\n",
            "    Weights, array of the same shape as `x`.\n",
            "minlength : int, optional\n",
            "    A minimum number of bins for the output array.\n",
            "\n",
            "    .. versionadded:: 1.6.0\n",
            "\n",
            "Returns\n",
            "-------\n",
            "out : ndarray of ints\n",
            "    The result of binning the input array.\n",
            "    The length of `out` is equal to ``np.amax(x)+1``.\n",
            "\n",
            "Raises\n",
            "------\n",
            "ValueError\n",
            "    If the input is not 1-dimensional, or contains elements with negative\n",
            "    values, or if `minlength` is negative.\n",
            "TypeError\n",
            "    If the type of the input is float or complex.\n",
            "\n",
            "See Also\n",
            "--------\n",
            "histogram, digitize, unique\n",
            "\n",
            "Examples\n",
            "--------\n",
            ">>> np.bincount(np.arange(5))\n",
            "array([1, 1, 1, 1, 1])\n",
            ">>> np.bincount(np.array([0, 1, 1, 3, 2, 1, 7]))\n",
            "array([1, 3, 1, 1, 0, 0, 0, 1])\n",
            "\n",
            ">>> x = np.array([0, 1, 1, 3, 2, 1, 7, 23])\n",
            ">>> np.bincount(x).size == np.amax(x)+1\n",
            "True\n",
            "\n",
            "The input array needs to be of integer dtype, otherwise a\n",
            "TypeError is raised:\n",
            "\n",
            ">>> np.bincount(np.arange(5, dtype=float))\n",
            "Traceback (most recent call last):\n",
            "  ...\n",
            "TypeError: Cannot cast array data from dtype('float64') to dtype('int64')\n",
            "according to the rule 'safe'\n",
            "\n",
            "A possible use of ``bincount`` is to perform sums over\n",
            "variable-size chunks of an array, using the ``weights`` keyword.\n",
            "\n",
            ">>> w = np.array([0.3, 0.5, 0.2, 0.7, 1., -0.6]) # weights\n",
            ">>> x = np.array([0, 1, 1, 2, 2, 2])\n",
            ">>> np.bincount(x,  weights=w)\n",
            "array([ 0.3,  0.7,  1.1])\n"
          ]
        }
      ]
    },
    {
      "cell_type": "code",
      "source": [
        "arr6 = np.array([3, 7, 0, 0, 9, 0])\n",
        "np.nonzero(arr6) # return index which is not zeros\n"
      ],
      "metadata": {
        "id": "fNIuSyBaJ4OP",
        "colab": {
          "base_uri": "https://localhost:8080/"
        },
        "outputId": "e3f6ac22-44e3-48eb-b869-4d702b6024d1"
      },
      "execution_count": null,
      "outputs": [
        {
          "output_type": "execute_result",
          "data": {
            "text/plain": [
              "(array([0, 1, 4]),)"
            ]
          },
          "metadata": {},
          "execution_count": 35
        }
      ]
    },
    {
      "cell_type": "code",
      "source": [
        "arr_f = np.arange(9) % 3\n",
        "arr_f.resize((3,3))\n",
        "arr_f"
      ],
      "metadata": {
        "id": "6V_CXc9F--Mh"
      },
      "execution_count": null,
      "outputs": []
    },
    {
      "cell_type": "code",
      "source": [
        "massiv1 = np.array([1,2,3])\n",
        "massiv2 = np.array([4,5,6])\n",
        "np.add.reduce(massiv1)\n",
        "np.add.reduce(massiv2)"
      ],
      "metadata": {
        "colab": {
          "base_uri": "https://localhost:8080/"
        },
        "id": "jEnMR9bLR0vM",
        "outputId": "a7fee390-d97e-4a44-d7ad-d0d041b5d93b"
      },
      "execution_count": 5,
      "outputs": [
        {
          "output_type": "execute_result",
          "data": {
            "text/plain": [
              "15"
            ]
          },
          "metadata": {},
          "execution_count": 5
        }
      ]
    },
    {
      "cell_type": "code",
      "execution_count": null,
      "metadata": {
        "id": "c1cc1143",
        "colab": {
          "base_uri": "https://localhost:8080/"
        },
        "outputId": "8ec81347-c2f8-469d-8f88-0a6a25937bf4"
      },
      "outputs": [
        {
          "output_type": "stream",
          "name": "stdout",
          "text": [
            "9\n",
            "10\n"
          ]
        }
      ],
      "source": [
        "print(sum(range(5),-1))\n",
        "from numpy import *\n",
        "print(sum(range(5),-1))"
      ]
    },
    {
      "cell_type": "code",
      "source": [
        "today = np.datetime64('today', 'D')\n",
        "tomorrow = today + np.timedelta64(1, 'D')\n",
        "yesterday = today - np.timedelta64(1, 'D')\n",
        "\n",
        "print(today)\n",
        "print(tomorrow)\n",
        "print(yesterday)"
      ],
      "metadata": {
        "colab": {
          "base_uri": "https://localhost:8080/"
        },
        "id": "SwmAkH0OQ1Sa",
        "outputId": "be048655-29fd-46b6-8553-ed3e9cf02865"
      },
      "execution_count": 4,
      "outputs": [
        {
          "output_type": "stream",
          "name": "stdout",
          "text": [
            "2024-01-31\n",
            "2024-02-01\n",
            "2024-01-30\n"
          ]
        }
      ]
    },
    {
      "cell_type": "code",
      "source": [
        "arr_e = np.random.randn(10)\n",
        "print(np.trunc(arr_e))\n",
        "print(np.floor(arr_e))\n",
        "print(arr_e.astype(int))"
      ],
      "metadata": {
        "id": "YWWlv3-sRQLm"
      },
      "execution_count": null,
      "outputs": []
    }
  ]
}