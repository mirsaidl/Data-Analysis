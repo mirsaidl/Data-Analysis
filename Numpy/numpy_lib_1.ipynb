{
  "nbformat": 4,
  "nbformat_minor": 0,
  "metadata": {
    "colab": {
      "provenance": []
    },
    "kernelspec": {
      "name": "python3",
      "display_name": "Python 3"
    },
    "language_info": {
      "name": "python"
    }
  },
  "cells": [
    {
      "cell_type": "code",
      "execution_count": 1,
      "metadata": {
        "id": "9YbSlppMFtkW"
      },
      "outputs": [],
      "source": [
        "import numpy as np"
      ]
    },
    {
      "cell_type": "markdown",
      "source": [
        "**Universal** **functions**"
      ],
      "metadata": {
        "id": "q5OFE_c8FxiV"
      }
    },
    {
      "cell_type": "code",
      "source": [
        "arr = np.arange(10)\n",
        "arr"
      ],
      "metadata": {
        "colab": {
          "base_uri": "https://localhost:8080/"
        },
        "id": "xb_u5RE6F2M4",
        "outputId": "8e87b139-1bf3-4fd2-a77f-24b74ee13253"
      },
      "execution_count": 2,
      "outputs": [
        {
          "output_type": "execute_result",
          "data": {
            "text/plain": [
              "array([0, 1, 2, 3, 4, 5, 6, 7, 8, 9])"
            ]
          },
          "metadata": {},
          "execution_count": 2
        }
      ]
    },
    {
      "cell_type": "code",
      "source": [
        "#Exponention\n",
        "np.exp(arr)"
      ],
      "metadata": {
        "colab": {
          "base_uri": "https://localhost:8080/"
        },
        "id": "nr5JpUqbGNNl",
        "outputId": "8ecd5b82-320e-48e2-f042-1c7c31ca94eb"
      },
      "execution_count": 5,
      "outputs": [
        {
          "output_type": "execute_result",
          "data": {
            "text/plain": [
              "array([1.00000000e+00, 2.71828183e+00, 7.38905610e+00, 2.00855369e+01,\n",
              "       5.45981500e+01, 1.48413159e+02, 4.03428793e+02, 1.09663316e+03,\n",
              "       2.98095799e+03, 8.10308393e+03])"
            ]
          },
          "metadata": {},
          "execution_count": 5
        }
      ]
    },
    {
      "cell_type": "code",
      "source": [
        "# Square root\n",
        "np.sqrt(arr)"
      ],
      "metadata": {
        "colab": {
          "base_uri": "https://localhost:8080/"
        },
        "id": "28Hamo8eF2SR",
        "outputId": "a6d4d992-478e-49a3-d48d-de1fa59ca5ae"
      },
      "execution_count": 3,
      "outputs": [
        {
          "output_type": "execute_result",
          "data": {
            "text/plain": [
              "array([0.        , 1.        , 1.41421356, 1.73205081, 2.        ,\n",
              "       2.23606798, 2.44948974, 2.64575131, 2.82842712, 3.        ])"
            ]
          },
          "metadata": {},
          "execution_count": 3
        }
      ]
    },
    {
      "cell_type": "code",
      "source": [
        "# Log e\n",
        "np.log(arr[1:])"
      ],
      "metadata": {
        "colab": {
          "base_uri": "https://localhost:8080/"
        },
        "id": "ZZY_tHAFGTuV",
        "outputId": "b97e045f-2919-4536-bac1-eae5f27cc4a7"
      },
      "execution_count": 8,
      "outputs": [
        {
          "output_type": "execute_result",
          "data": {
            "text/plain": [
              "array([0.        , 0.69314718, 1.09861229, 1.38629436, 1.60943791,\n",
              "       1.79175947, 1.94591015, 2.07944154, 2.19722458])"
            ]
          },
          "metadata": {},
          "execution_count": 8
        }
      ]
    },
    {
      "cell_type": "code",
      "source": [
        "# Square\n",
        "np.square(arr)"
      ],
      "metadata": {
        "colab": {
          "base_uri": "https://localhost:8080/"
        },
        "id": "A87e3xvUGEpu",
        "outputId": "3c5a5bba-8d1c-485e-f675-76abbe0af5d4"
      },
      "execution_count": 4,
      "outputs": [
        {
          "output_type": "execute_result",
          "data": {
            "text/plain": [
              "array([ 0,  1,  4,  9, 16, 25, 36, 49, 64, 81])"
            ]
          },
          "metadata": {},
          "execution_count": 4
        }
      ]
    },
    {
      "cell_type": "code",
      "source": [
        "# Modf divides two parts reminder and natural number\n",
        "arr1 = np.random.randn(10)\n",
        "arr1"
      ],
      "metadata": {
        "colab": {
          "base_uri": "https://localhost:8080/"
        },
        "id": "jqYoVc_UGmTL",
        "outputId": "78bfe07f-14ba-49f8-bea6-3619f93e9f4e"
      },
      "execution_count": 9,
      "outputs": [
        {
          "output_type": "execute_result",
          "data": {
            "text/plain": [
              "array([-1.45973137,  0.02653429, -0.119298  ,  0.40515151, -0.87743201,\n",
              "       -0.44741022,  0.90321212, -1.11601713, -1.09759327, -0.5218143 ])"
            ]
          },
          "metadata": {},
          "execution_count": 9
        }
      ]
    },
    {
      "cell_type": "code",
      "source": [
        "reminder, number = np.modf(arr1)\n",
        "print(reminder)\n",
        "print(number)"
      ],
      "metadata": {
        "colab": {
          "base_uri": "https://localhost:8080/"
        },
        "id": "lqETa9eYG27W",
        "outputId": "130d4eef-c4da-4666-ccf9-6245bf145b27"
      },
      "execution_count": 10,
      "outputs": [
        {
          "output_type": "stream",
          "name": "stdout",
          "text": [
            "[-0.45973137  0.02653429 -0.119298    0.40515151 -0.87743201 -0.44741022\n",
            "  0.90321212 -0.11601713 -0.09759327 -0.5218143 ]\n",
            "[-1.  0. -0.  0. -0. -0.  0. -1. -1. -0.]\n"
          ]
        }
      ]
    },
    {
      "cell_type": "code",
      "source": [
        "# Sign return 1 if number is n>0 and -1 if n<0\n",
        "np.sign(arr1)"
      ],
      "metadata": {
        "colab": {
          "base_uri": "https://localhost:8080/"
        },
        "id": "CkRjjeqyHJzG",
        "outputId": "424b38a4-e728-450f-f836-2ff9fef13f93"
      },
      "execution_count": 11,
      "outputs": [
        {
          "output_type": "execute_result",
          "data": {
            "text/plain": [
              "array([-1.,  1., -1.,  1., -1., -1.,  1., -1., -1., -1.])"
            ]
          },
          "metadata": {},
          "execution_count": 11
        }
      ]
    },
    {
      "cell_type": "code",
      "source": [
        "# isnan return True if values is Nan\n",
        "arr1[0] = np.NAN\n",
        "arr1"
      ],
      "metadata": {
        "colab": {
          "base_uri": "https://localhost:8080/"
        },
        "id": "Mf9XnVqlHerL",
        "outputId": "8e188e6b-afd1-4ea6-9dea-4450e1039dd7"
      },
      "execution_count": 12,
      "outputs": [
        {
          "output_type": "execute_result",
          "data": {
            "text/plain": [
              "array([        nan,  0.02653429, -0.119298  ,  0.40515151, -0.87743201,\n",
              "       -0.44741022,  0.90321212, -1.11601713, -1.09759327, -0.5218143 ])"
            ]
          },
          "metadata": {},
          "execution_count": 12
        }
      ]
    },
    {
      "cell_type": "code",
      "source": [
        "np.isnan(arr1)"
      ],
      "metadata": {
        "colab": {
          "base_uri": "https://localhost:8080/"
        },
        "id": "hfd10_SjHxLn",
        "outputId": "a7c9a22c-a4a8-4a2e-bd72-314cb66da9fb"
      },
      "execution_count": 13,
      "outputs": [
        {
          "output_type": "execute_result",
          "data": {
            "text/plain": [
              "array([ True, False, False, False, False, False, False, False, False,\n",
              "       False])"
            ]
          },
          "metadata": {},
          "execution_count": 13
        }
      ]
    },
    {
      "cell_type": "markdown",
      "source": [
        "**Where**"
      ],
      "metadata": {
        "id": "i7Dl9mcQKChx"
      }
    },
    {
      "cell_type": "code",
      "source": [
        "arr_a = np.array([1.1,1.2,1.3,1.4])\n",
        "arr_b = np.array([2.1,2.2,2.3,2.4])\n",
        "cond = np.array([True,True,False,True])\n",
        "result = np.where(cond,arr_a,arr_b) # if cond is True get from arr_a if False get from arr_b\n",
        "result"
      ],
      "metadata": {
        "colab": {
          "base_uri": "https://localhost:8080/"
        },
        "id": "Mjb1VtIqKGXi",
        "outputId": "0fd8ade0-4e7d-43fc-d318-bbd83316c36d"
      },
      "execution_count": 14,
      "outputs": [
        {
          "output_type": "execute_result",
          "data": {
            "text/plain": [
              "array([1.1, 1.2, 2.3, 1.4])"
            ]
          },
          "metadata": {},
          "execution_count": 14
        }
      ]
    },
    {
      "cell_type": "code",
      "source": [
        "arr_c = np.random.randint(-10,10, size=(3,3))\n",
        "result1 = np.where(arr_c>0,1,-1) # if number is n>0 return 1 otherwise -1\n",
        "result1"
      ],
      "metadata": {
        "colab": {
          "base_uri": "https://localhost:8080/"
        },
        "id": "3eaUs4wsK0uH",
        "outputId": "5d9b36ed-8dd7-43d3-afca-02774509248b"
      },
      "execution_count": 23,
      "outputs": [
        {
          "output_type": "execute_result",
          "data": {
            "text/plain": [
              "array([[ 1, -1, -1],\n",
              "       [ 1, -1,  1],\n",
              "       [-1,  1,  1]])"
            ]
          },
          "metadata": {},
          "execution_count": 23
        }
      ]
    },
    {
      "cell_type": "markdown",
      "source": [
        "**Statistics**"
      ],
      "metadata": {
        "id": "qjNHcO-kPClL"
      }
    },
    {
      "cell_type": "code",
      "source": [
        "arr_d = np.random.randint(-100,100, size=(3,3))\n",
        "arr_d"
      ],
      "metadata": {
        "colab": {
          "base_uri": "https://localhost:8080/"
        },
        "id": "Qi31mKNEPGRB",
        "outputId": "f12906cc-ca9c-43e9-ca24-f713f7537fb8"
      },
      "execution_count": 31,
      "outputs": [
        {
          "output_type": "execute_result",
          "data": {
            "text/plain": [
              "array([[ 28,  85,  38],\n",
              "       [ 50, -62, -62],\n",
              "       [ 39, -13,   6]])"
            ]
          },
          "metadata": {},
          "execution_count": 31
        }
      ]
    },
    {
      "cell_type": "code",
      "source": [
        "arr_d.sum() # np.sum(arr_d) is okay too"
      ],
      "metadata": {
        "colab": {
          "base_uri": "https://localhost:8080/"
        },
        "id": "YM-_5o9rPgxu",
        "outputId": "bc3c1a2c-9c29-488f-af27-69dd20dfbfe4"
      },
      "execution_count": 32,
      "outputs": [
        {
          "output_type": "execute_result",
          "data": {
            "text/plain": [
              "109"
            ]
          },
          "metadata": {},
          "execution_count": 32
        }
      ]
    },
    {
      "cell_type": "code",
      "source": [
        "print(arr_d.sum(axis=1)) # row-sum\n",
        "print(arr_d.sum(axis=0)) # column-sum"
      ],
      "metadata": {
        "colab": {
          "base_uri": "https://localhost:8080/"
        },
        "id": "iNdJqDIMPkEm",
        "outputId": "0cf23f5c-c017-4254-e2dd-a06ed527a85f"
      },
      "execution_count": 34,
      "outputs": [
        {
          "output_type": "stream",
          "name": "stdout",
          "text": [
            "[151 -74  32]\n",
            "[117  10 -18]\n"
          ]
        }
      ]
    },
    {
      "cell_type": "code",
      "source": [
        "arr_d.mean() # np.mean(arr_d) is okay too"
      ],
      "metadata": {
        "colab": {
          "base_uri": "https://localhost:8080/"
        },
        "id": "Cp6DI97LP9xx",
        "outputId": "11a42fe9-83b2-40c9-a321-50e5776c3c5d"
      },
      "execution_count": 35,
      "outputs": [
        {
          "output_type": "execute_result",
          "data": {
            "text/plain": [
              "12.11111111111111"
            ]
          },
          "metadata": {},
          "execution_count": 35
        }
      ]
    },
    {
      "cell_type": "code",
      "source": [
        "print(arr_d.mean(axis=1)) # row-mean\n",
        "print(arr_d.mean(axis=0)) # column-mean"
      ],
      "metadata": {
        "colab": {
          "base_uri": "https://localhost:8080/"
        },
        "id": "EMAd4hRKQJi9",
        "outputId": "f3f4a7e8-7b07-457a-ea9f-fd420a9aad95"
      },
      "execution_count": 36,
      "outputs": [
        {
          "output_type": "stream",
          "name": "stdout",
          "text": [
            "[ 50.33333333 -24.66666667  10.66666667]\n",
            "[39.          3.33333333 -6.        ]\n"
          ]
        }
      ]
    },
    {
      "cell_type": "code",
      "source": [
        "#cumsum\n",
        "arr_d.cumsum()\n",
        "# summation steps"
      ],
      "metadata": {
        "colab": {
          "base_uri": "https://localhost:8080/"
        },
        "id": "drE7NBCrQbzc",
        "outputId": "8e33241c-9b48-4f59-d6d2-4fc651b3b547"
      },
      "execution_count": 38,
      "outputs": [
        {
          "output_type": "execute_result",
          "data": {
            "text/plain": [
              "array([ 28, 113, 151, 201, 139,  77, 116, 103, 109])"
            ]
          },
          "metadata": {},
          "execution_count": 38
        }
      ]
    }
  ]
}