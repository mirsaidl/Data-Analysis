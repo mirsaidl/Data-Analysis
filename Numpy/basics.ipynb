{
 "cells": [
  {
   "cell_type": "code",
   "execution_count": 1,
   "metadata": {},
   "outputs": [
    {
     "name": "stdout",
     "output_type": "stream",
     "text": [
      "[1, 2, 3, 4, 4]\n",
      "[5 6 7 8]\n"
     ]
    }
   ],
   "source": [
    "import numpy as np\n",
    "\n",
    "#difference between np.array and python lists \n",
    "#adding\n",
    "l = [1,2,3,4]\n",
    "a = np.array([1,2,3,4])\n",
    "\n",
    "l += [4]\n",
    "print(l)\n",
    "\n",
    "a += np.array([4])\n",
    "print(a)"
   ]
  },
  {
   "cell_type": "code",
   "execution_count": 10,
   "metadata": {},
   "outputs": [
    {
     "name": "stdout",
     "output_type": "stream",
     "text": [
      "[1, 2, 3, 4, 1, 2, 3, 4]\n",
      "[2 4 6 8]\n"
     ]
    }
   ],
   "source": [
    "#multiplication\n",
    "l = [1,2,3,4]\n",
    "a = np.array([1,2,3,4])\n",
    "\n",
    "l = l * 2\n",
    "print(l)\n",
    "a = a * 2\n",
    "print(a)"
   ]
  },
  {
   "cell_type": "code",
   "execution_count": 14,
   "metadata": {},
   "outputs": [
    {
     "name": "stdout",
     "output_type": "stream",
     "text": [
      "[20  0  6]\n",
      "[10  2  3]\n",
      "(3,)\n",
      "int32\n",
      "1\n",
      "3\n",
      "4\n"
     ]
    }
   ],
   "source": [
    "#Numpy some methods\n",
    "a = np.array([1,2,3])\n",
    "a[0] = 10\n",
    "b = a * np.array([2,0,2])\n",
    "print(b)\n",
    "\n",
    "print(a)\n",
    "print(a.shape) \n",
    "print(a.dtype) # data type of array\n",
    "print(a.ndim) #dimension\n",
    "print(a.size)\n",
    "print(a.itemsize) #size in bytes\n",
    "\n",
    "\n",
    "\n"
   ]
  },
  {
   "cell_type": "code",
   "execution_count": 17,
   "metadata": {},
   "outputs": [
    {
     "name": "stdout",
     "output_type": "stream",
     "text": [
      "32\n",
      "32\n",
      "32\n",
      "32\n"
     ]
    }
   ],
   "source": [
    "#Dot product\n",
    "l1 = [1,2,3]\n",
    "l2 = [4,5,6]\n",
    "a1 = np.array(l1)\n",
    "a2 = np.array(l2)\n",
    "\n",
    "#dot in lists\n",
    "dot = 0\n",
    "for i in range(len(l1)):\n",
    "    dot += l1[i] * l2[i]\n",
    "print(dot)\n",
    "\n",
    "#dot in numpy\n",
    "dot = np.dot(a1,a2)\n",
    "print(dot)\n",
    "\n",
    "sum1 = a1 * a2\n",
    "dot = np.sum(sum1)\n",
    "print(dot)\n",
    "\n",
    "#best way\n",
    "\n",
    "dot = a1 @ a2\n",
    "print(dot)\n"
   ]
  }
 ],
 "metadata": {
  "kernelspec": {
   "display_name": "Python 3",
   "language": "python",
   "name": "python3"
  },
  "language_info": {
   "codemirror_mode": {
    "name": "ipython",
    "version": 3
   },
   "file_extension": ".py",
   "mimetype": "text/x-python",
   "name": "python",
   "nbconvert_exporter": "python",
   "pygments_lexer": "ipython3",
   "version": "3.11.4"
  }
 },
 "nbformat": 4,
 "nbformat_minor": 2
}
