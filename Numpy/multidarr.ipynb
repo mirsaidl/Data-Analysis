{
 "cells": [
  {
   "cell_type": "code",
   "execution_count": 15,
   "metadata": {},
   "outputs": [
    {
     "name": "stdout",
     "output_type": "stream",
     "text": [
      "[[1 3]\n",
      " [2 4]]\n",
      "[[-2.   1. ]\n",
      " [ 1.5 -0.5]]\n",
      "-2.0000000000000004\n",
      "[[1 0]\n",
      " [0 4]]\n"
     ]
    }
   ],
   "source": [
    "import numpy as np\n",
    "\n",
    "a = np.array([[1,2], [3,4]])\n",
    "\n",
    "#print(a)\n",
    "#print(a.shape)\n",
    "#print(a[0,2]) # which = [0][2]\n",
    "c = np.diag(a)\n",
    "\n",
    "print(a.T)\n",
    "print(np.linalg.inv(a)) #inverse\n",
    "print(np.linalg.det(a)) #determinent\n",
    "\n",
    "print(np.diag(c))\n",
    "\n",
    "\n",
    " "
   ]
  }
 ],
 "metadata": {
  "kernelspec": {
   "display_name": "Python 3",
   "language": "python",
   "name": "python3"
  },
  "language_info": {
   "codemirror_mode": {
    "name": "ipython",
    "version": 3
   },
   "file_extension": ".py",
   "mimetype": "text/x-python",
   "name": "python",
   "nbconvert_exporter": "python",
   "pygments_lexer": "ipython3",
   "version": "3.11.4"
  }
 },
 "nbformat": 4,
 "nbformat_minor": 2
}
