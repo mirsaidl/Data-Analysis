{
 "cells": [
  {
   "cell_type": "code",
   "execution_count": 2,
   "metadata": {},
   "outputs": [
    {
     "name": "stdout",
     "output_type": "stream",
     "text": [
      "[[1 3]\n",
      " [2 4]]\n",
      "[[-2.   1. ]\n",
      " [ 1.5 -0.5]]\n",
      "-2.0000000000000004\n",
      "[[1 0]\n",
      " [0 4]]\n"
     ]
    }
   ],
   "source": [
    "import numpy as np\n",
    "\n",
    "a = np.array([[1,2], [3,4]])\n",
    "\n",
    "#print(a)\n",
    "#print(a.shape)\n",
    "#print(a[0,2]) # which = [0][2]\n",
    "c = np.diag(a)\n",
    "\n",
    "print(a.T)\n",
    "print(np.linalg.inv(a)) #inverse\n",
    "print(np.linalg.det(a)) #determinent\n",
    "\n",
    "print(np.diag(c))\n",
    "\n",
    "\n",
    " "
   ]
  },
  {
   "cell_type": "code",
   "execution_count": 6,
   "metadata": {},
   "outputs": [
    {
     "name": "stdout",
     "output_type": "stream",
     "text": [
      "[5 6 7 8]\n",
      "[2 3]\n",
      "[2 6]\n",
      "7\n"
     ]
    }
   ],
   "source": [
    "# Indexing and Slicing\n",
    "a  = np.array([[1,2,3,4],[5,6,7,8]])\n",
    "print(a[1,:])\n",
    "print(a[0,1:3])\n",
    "\n",
    "#Colums\n",
    "print(a[:,1])\n",
    "\n",
    "# Negative\n",
    "print(a[-1,-2])\n"
   ]
  },
  {
   "cell_type": "code",
   "execution_count": 16,
   "metadata": {},
   "outputs": [
    {
     "name": "stdout",
     "output_type": "stream",
     "text": [
      "[[False False]\n",
      " [ True  True]\n",
      " [ True  True]]\n",
      "[4 5 6]\n",
      "[[0 0]\n",
      " [3 4]\n",
      " [5 6]]\n"
     ]
    }
   ],
   "source": [
    "# Boolen\n",
    "b = np.array([[1,2], [3,4], [5,6]])\n",
    "\n",
    "bool_idx = b > 2\n",
    "print(bool_idx)\n",
    "print(b[b > 3])\n",
    "\n",
    "c = np.where(b>2 , b ,0)\n",
    "print(c)"
   ]
  },
  {
   "cell_type": "code",
   "execution_count": 19,
   "metadata": {},
   "outputs": [
    {
     "name": "stdout",
     "output_type": "stream",
     "text": [
      "[10 19 30 41 50 61]\n",
      "[19 41 61]\n",
      "[10 30 50]\n"
     ]
    }
   ],
   "source": [
    "# Fancy Indexing\n",
    "a = np.array([10,19,30,41,50,61])\n",
    "print(a)\n",
    "b = [1,3,5]\n",
    "print(a[b])\n",
    "\n",
    "even = np.argwhere(a%2==0).flatten()\n",
    "print(a[even])"
   ]
  }
 ],
 "metadata": {
  "kernelspec": {
   "display_name": "Python 3",
   "language": "python",
   "name": "python3"
  },
  "language_info": {
   "codemirror_mode": {
    "name": "ipython",
    "version": 3
   },
   "file_extension": ".py",
   "mimetype": "text/x-python",
   "name": "python",
   "nbconvert_exporter": "python",
   "pygments_lexer": "ipython3",
   "version": "3.11.4"
  }
 },
 "nbformat": 4,
 "nbformat_minor": 2
}
